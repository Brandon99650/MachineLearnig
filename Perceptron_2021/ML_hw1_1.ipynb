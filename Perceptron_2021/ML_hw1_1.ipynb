{
 "cells": [
  {
   "cell_type": "code",
   "execution_count": 8,
   "id": "ce98abf7",
   "metadata": {},
   "outputs": [
    {
     "data": {
      "image/png": "[encoded data removed]",
      "text/plain": [
       "<Figure size 432x288 with 1 Axes>"
      ]
     },
     "metadata": {
      "needs_background": "light"
     },
     "output_type": "display_data"
    },
    {
     "name": "stdout",
     "output_type": "stream",
     "text": [
      "[   0.    0.   -1.    2.   40.   -1.   13.  150.   -1.   15.   60.   -1.\n",
      "   18.   80.   -1.    7.  120.   -1.   13.  210.   -1.   14.  140.   -1.\n",
      "   23.  420.   -1.    0.  -90.   -1.    0.  -90.   -1.   14.  270.   -1.\n",
      "    2.   40.   -1.    2. -210.   -1.    2. -150.   -1.    5.  160.    1.\n",
      "    0.  240.    1.   13.  280.    1.    6.  360.    1.   11.  400.    1.\n",
      "   12.  370.    1.   11.  330.    1.   22.  570.    1.   15.  580.    1.\n",
      "   15.  460.    1.   19.  400.    1.   12.  520.    1.   21.  550.    1.\n",
      "   15.  330.    1.    7.  370.    1.]\n"
     ]
    }
   ],
   "source": [
    "import numpy as np\n",
    "import matplotlib.pyplot as plt\n",
    "\n",
    "#random\n",
    "def rand_samples(m, b, n_points, rand):\n",
    "    x_coors ,y_coors,labels,= np.array([]), np.array([]), np.array([]) \n",
    "    c = 10 if m >= 0 else -10\n",
    "\n",
    "    p_num = int(n_points / 2)\n",
    "    neg_num = n_points - p_num\n",
    "    for state, n_points in [['pos', p_num], ['neg', neg_num]]:\n",
    "        x = np.random.randint(0, rand, n_points)\n",
    "        r = np.random.randint(1, rand, n_points)\n",
    "\n",
    "        if state == 'neg':\n",
    "            y = m * x + b + (r * c)\n",
    "            labels = np.append(labels, np.ones(n_points, dtype=int))\n",
    "        else:\n",
    "            y = m * x + b - (r * c)\n",
    "            labels = np.append(labels, -1*np.ones(n_points, dtype=int))\n",
    "\n",
    "        x_coors=np.append(x_coors, x)    \n",
    "        y_coors=np.append(y_coors, y)    \n",
    "\n",
    "    return x_coors, y_coors, labels\n",
    "if __name__ == '__main__':\n",
    "    w1, w0 = 20, 10\n",
    "    #w1=m,w0=b\n",
    "\n",
    "    n_points = 30\n",
    "    rand = 30\n",
    "    p_num = int(n_points / 2)\n",
    "\n",
    "    x = np.arange(rand + 1)  \n",
    "    y = w1* x + w0\n",
    "    plt.plot(x, y)\n",
    "\n",
    "    # randomly generate points\n",
    "    x_coors, y_coors, labels = rand_samples(w1, w0, n_points, rand)\n",
    "\n",
    "    # plot random points. Blue: positive, red: negative\n",
    "    plt.plot(x_coors[:p_num], y_coors[:p_num], 'o', color='green')   # positive\n",
    "    plt.plot(x_coors[p_num:], y_coors[p_num:], 'o', color='red')    # negative\n",
    "    plt.show()\n",
    "    m=np.array([])\n",
    "for i in range(n_points):\n",
    "        m=np.append(m,[x_coors[i],y_coors[i],labels[i]])\n",
    "print (m)"
   ]
  },
  {
   "cell_type": "code",
   "execution_count": null,
   "id": "0d74744e",
   "metadata": {},
   "outputs": [],
   "source": []
  },
  {
   "cell_type": "code",
   "execution_count": null,
   "id": "b650b1d6",
   "metadata": {},
   "outputs": [],
   "source": []
  }
 ],
 "metadata": {
  "kernelspec": {
   "display_name": "Python 3 (ipykernel)",
   "language": "python",
   "name": "python3"
  },
  "language_info": {
   "codemirror_mode": {
    "name": "ipython",
    "version": 3
   },
   "file_extension": ".py",
   "mimetype": "text/x-python",
   "name": "python",
   "nbconvert_exporter": "python",
   "pygments_lexer": "ipython3",
   "version": "3.9.7"
  }
 },
 "nbformat": 4,
 "nbformat_minor": 5
}
