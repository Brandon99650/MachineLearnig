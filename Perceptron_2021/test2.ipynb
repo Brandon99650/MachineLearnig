{
 "cells": [
  {
   "cell_type": "code",
   "execution_count": 274,
   "metadata": {},
   "outputs": [
    {
     "data": {
      "image/png": "[encoded data removed]",
      "text/plain": [
       "<Figure size 432x288 with 1 Axes>"
      ]
     },
     "metadata": {
      "needs_background": "light"
     },
     "output_type": "display_data"
    },
    {
     "name": "stdout",
     "output_type": "stream",
     "text": [
      "[  10.  -10.    1.   26.   -4.    1.   25.  140.    1.    8.   68.    1.\n",
      "    9.  214.    1.   16.    6.    1.    5.   30.    1.   17.  112.    1.\n",
      "    1.  246.    1.   23.   28.    1.   25.  130.    1.    4.   14.    1.\n",
      "   18.  228.    1.   23.  -62.    1.   20.  -60.    1.   11. -144.   -1.\n",
      "   17. -218.   -1.    9. -266.   -1.    0. -150.   -1.    5.  -70.   -1.\n",
      "   19. -126.   -1.    9. -206.   -1.   27. -118.   -1.   23. -272.   -1.\n",
      "   20. -180.   -1.    5. -230.   -1.   24. -166.   -1.   14.  -56.   -1.\n",
      "   23. -152.   -1.   16. -194.   -1.]\n"
     ]
    }
   ],
   "source": [
    "import numpy as np\n",
    "import matplotlib.pyplot as plt\n",
    "\n",
    "#random\n",
    "def rand_samples(m, b, n_points, rand):\n",
    "    x_coors ,y_coors,labels,= np.array([]), np.array([]), np.array([]) \n",
    "    c = 10 if m >= 0 else -10\n",
    "\n",
    "    p_num = int(n_points / 2)\n",
    "    neg_num = n_points - p_num\n",
    "    for state, n_points in [['pos', p_num], ['neg', neg_num]]:\n",
    "        x = np.random.randint(0, rand, n_points)\n",
    "        r = np.random.randint(1, rand, n_points)\n",
    "\n",
    "        if state == 'pos':\n",
    "            y = m * x + b - (r * c)\n",
    "            labels = np.append(labels, np.ones(n_points, dtype=int))\n",
    "        else:\n",
    "            y = m * x + b + (r * c)\n",
    "            labels = np.append(labels, -1*np.ones(n_points, dtype=int))\n",
    "\n",
    "        x_coors=np.append(x_coors, x)    \n",
    "        y_coors=np.append(y_coors, y)    \n",
    "\n",
    "    return x_coors, y_coors, labels\n",
    "if __name__ == '__main__':\n",
    "    w1, w0 = 2, 1\n",
    "    #w1=m,w0=b\n",
    "\n",
    "    n_points = 2000\n",
    "    rand = 2000\n",
    "    p_num = int(n_points / 2)\n",
    "\n",
    "    x = np.arange(rand + 1)  \n",
    "    y = w1* x + w0\n",
    "    plt.plot(x, y)\n",
    "\n",
    "    # randomly generate points\n",
    "    x_coors, y_coors, labels = rand_samples(w1, w0, n_points, rand)\n",
    "\n",
    "    # plot random points. Blue: positive, red: negative\n",
    "    plt.plot(x_coors[:p_num], y_coors[:p_num], 'o', color='green')   # positive\n",
    "    plt.plot(x_coors[p_num:], y_coors[p_num:], 'o', color='red')    # negative\n",
    "    plt.show()\n",
    "    m=np.array([])\n",
    "for i in range(n_points):\n",
    "        m=np.append(m,[x_coors[i],y_coors[i],labels[i]])\n",
    "print (m)"
   ]
  },
  {
   "cell_type": "code",
   "execution_count": 275,
   "metadata": {},
   "outputs": [
    {
     "name": "stdout",
     "output_type": "stream",
     "text": [
      "iterator: 0\n",
      "iterator: 1\n",
      "iterator: 2\n",
      "iterator: 3\n",
      "iterator: 4\n"
     ]
    },
    {
     "data": {
      "image/png": "[encoded data removed]",
      "text/plain": [
       "<Figure size 432x288 with 1 Axes>"
      ]
     },
     "metadata": {
      "needs_background": "light"
     },
     "output_type": "display_data"
    }
   ],
   "source": [
    "#pocket\n",
    "def sign(z):\n",
    "    if z > 0:\n",
    "        return 1\n",
    "    else:\n",
    "        return -1\n",
    "w = np.array([0.,0.,0.])\n",
    "error = 1\n",
    "iterator = 0\n",
    "\n",
    "def error_rate(w):\n",
    "    error = 0.0\n",
    "    for i in range(n_points):\n",
    "        x=[1.,x_coors[i],y_coors[i]]\n",
    "        y=labels[i]\n",
    "        if sign(np.dot(w,x)) != y:\n",
    "            error = error +1.0\n",
    "    return error/n_points\n",
    "while n_points:\n",
    "    for i in range(n_points):\n",
    "        x=[1.,x_coors[i],y_coors[i]]\n",
    "        y=labels[i]\n",
    "        if sign(np.dot(w,x)) != y:\n",
    "            print(\"iterator: \"+str(iterator))\n",
    "            iterator += 1\n",
    "            error += 1\n",
    "            \n",
    "            if y ==1:\n",
    "                wt =w+x\n",
    "            else: \n",
    "                wt =w-x\n",
    "            error0 = error_rate(w)\n",
    "            error1 = error_rate(wt)   \n",
    "            if error1 < error0:\n",
    "                w = wt\n",
    "                error = error1\n",
    "                x_decision_boundary = np.linspace(0.1,2000)\n",
    "                y_decision_boundary = (-w[1]/w[2])*x_decision_boundary - (w[0]/w[2])\n",
    "    break\n",
    "                 \n",
    "plt.plot(x_decision_boundary, y_decision_boundary,color='black')\n",
    "plt.plot(x_coors[:p_num], y_coors[:p_num], 'o', color='green')   # positive\n",
    "plt.plot(x_coors[p_num:], y_coors[p_num:], 'o', color='red')    # negative\n",
    "plt.show()"
   ]
  },
  {
   "cell_type": "code",
   "execution_count": 276,
   "metadata": {},
   "outputs": [
    {
     "name": "stdout",
     "output_type": "stream",
     "text": [
      "iterator: 0\n",
      "iterator: 1\n",
      "iterator: 2\n",
      "iterator: 3\n",
      "iterator: 4\n",
      "iterator: 5\n",
      "iterator: 6\n",
      "iterator: 7\n",
      "iterator: 8\n",
      "iterator: 9\n",
      "iterator: 10\n",
      "iterator: 11\n",
      "iterator: 12\n",
      "iterator: 13\n",
      "iterator: 14\n",
      "iterator: 15\n",
      "iterator: 16\n",
      "iterator: 17\n",
      "iterator: 18\n",
      "iterator: 19\n",
      "iterator: 20\n",
      "iterator: 21\n",
      "iterator: 22\n",
      "iterator: 23\n",
      "iterator: 24\n",
      "iterator: 25\n",
      "iterator: 26\n",
      "iterator: 27\n",
      "iterator: 28\n",
      "iterator: 29\n",
      "iterator: 30\n",
      "iterator: 31\n",
      "iterator: 32\n",
      "iterator: 33\n",
      "iterator: 34\n",
      "iterator: 35\n"
     ]
    },
    {
     "data": {
      "image/png": "[encoded data removed]",
      "text/plain": [
       "<Figure size 432x288 with 1 Axes>"
      ]
     },
     "metadata": {
      "needs_background": "light"
     },
     "output_type": "display_data"
    }
   ],
   "source": [
    "#pla\n",
    "def sign(z):\n",
    "    if z > 0:\n",
    "        return 1\n",
    "    else:\n",
    "        return -1\n",
    "w = np.array([0.,0.,0.])\n",
    "error = 1\n",
    "iterator = 0\n",
    "while error != 0:\n",
    "    error = 0\n",
    "    for i in range(n_points):\n",
    "        x=[1.,x_coors[i],y_coors[i]]\n",
    "        y=labels[i]\n",
    "        if sign(np.dot(w,x)) != y:\n",
    "            print(\"iterator: \"+str(iterator))\n",
    "            iterator += 1\n",
    "            error += 1\n",
    "            if y ==1:\n",
    "                w +=x\n",
    "            else: \n",
    "                w -=x           \n",
    "            x_decision_boundary = np.linspace(0.1,30)\n",
    "            y_decision_boundary = (-w[1]/w[2])*x_decision_boundary - (w[0]/w[2])\n",
    "            \n",
    "plt.plot(x_decision_boundary, y_decision_boundary)\n",
    "plt.plot(x_coors[:p_num], y_coors[:p_num], 'o', color='green')   # positive\n",
    "plt.plot(x_coors[p_num:], y_coors[p_num:], 'o', color='red')    # negative\n",
    "plt.show()\n",
    "\n"
   ]
  }
 ],
 "metadata": {
  "interpreter": {
   "hash": "6d46af94c2bbce495f1e668725902fa517c90b1782bcfe2fce0dd9868df553d3"
  },
  "kernelspec": {
   "display_name": "Python 3.9.7 ('base')",
   "language": "python",
   "name": "python3"
  },
  "language_info": {
   "codemirror_mode": {
    "name": "ipython",
    "version": 3
   },
   "file_extension": ".py",
   "mimetype": "text/x-python",
   "name": "python",
   "nbconvert_exporter": "python",
   "pygments_lexer": "ipython3",
   "version": "3.9.7"
  },
  "orig_nbformat": 4
 },
 "nbformat": 4,
 "nbformat_minor": 2
}
